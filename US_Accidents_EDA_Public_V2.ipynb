{
  "nbformat": 4,
  "nbformat_minor": 0,
  "metadata": {
    "colab": {
      "provenance": [],
      "collapsed_sections": [
        "OLEZ1wxp_as2",
        "KT85GBzJwVmZ",
        "W1etA9G_G9lq",
        "ToDARi44GwWv",
        "Rs5AvsSSL60g",
        "G72hLPrBgm4z",
        "PlFKr4qRFERb",
        "mpvOe15cUC0Y",
        "lLPpQC2JU3Q0",
        "WIicLWhJZOtC",
        "hOMVjLMqghKh",
        "mW_wwvDWsB5b",
        "XQ6vdJ51wK27",
        "pD7k5CBfwOJE",
        "E90hcly5FTqQ",
        "lHYepnpInT2E",
        "HImSPUZi4-wo"
      ]
    },
    "kernelspec": {
      "name": "python3",
      "display_name": "Python 3"
    },
    "language_info": {
      "name": "python"
    }
  },
  "cells": [
    {
      "cell_type": "code",
      "source": [
        "# Filtering warnings\n",
        "import warnings\n",
        "warnings.filterwarnings(\"ignore\")"
      ],
      "metadata": {
        "id": "ySPSyF4Fsa6W"
      },
      "execution_count": null,
      "outputs": []
    },
    {
      "cell_type": "markdown",
      "source": [
        "##Mounting Drive and Importing Libraries"
      ],
      "metadata": {
        "id": "7M2pjjTd_jek"
      }
    },
    {
      "cell_type": "code",
      "execution_count": null,
      "metadata": {
        "id": "W4AXOD5Es9_p"
      },
      "outputs": [],
      "source": [
        "from google.colab import drive\n",
        "drive.mount('/content/drive')"
      ]
    },
    {
      "cell_type": "code",
      "source": [
        "import pandas as pd\n",
        "import numpy as np\n",
        "import seaborn as sns\n",
        "import matplotlib.pyplot as plt\n",
        "import datetime as dt\n",
        "import folium\n",
        "import math"
      ],
      "metadata": {
        "id": "UlekipOlvot1"
      },
      "execution_count": null,
      "outputs": []
    },
    {
      "cell_type": "code",
      "source": [
        "sns.set_style(\"darkgrid\")"
      ],
      "metadata": {
        "id": "bKeoGIUIWiT5"
      },
      "execution_count": null,
      "outputs": []
    },
    {
      "cell_type": "markdown",
      "source": [
        "#US Accidents EDA\n",
        "[Link to dataset](https://www.kaggle.com/datasets/sobhanmoosavi/us-accidents?select=US_Accidents_Dec21_updated.csv)"
      ],
      "metadata": {
        "id": "38lR3iI4wArv"
      }
    },
    {
      "cell_type": "markdown",
      "source": [
        "##Importing Dataset from Google Drive"
      ],
      "metadata": {
        "id": "OLEZ1wxp_as2"
      }
    },
    {
      "cell_type": "code",
      "source": [
        "df0 = pd.read_csv('/content/drive/MyDrive/Analytics_Project/US_Accidents_Dec21_updated.csv')"
      ],
      "metadata": {
        "id": "Xleb77cHwAgu"
      },
      "execution_count": null,
      "outputs": []
    },
    {
      "cell_type": "markdown",
      "source": [
        "##Perform Data Preparation and Cleaning using Numpy and Pandas\n",
        "\n",
        "1. Load Information about Data and the columns\n",
        "2. Fix missing [Null], incorrect values, Duplicate Data.\n",
        "3. Fix Data Type for variables.\n"
      ],
      "metadata": {
        "id": "KT85GBzJwVmZ"
      }
    },
    {
      "cell_type": "markdown",
      "source": [
        "###Information of Data"
      ],
      "metadata": {
        "id": "W1etA9G_G9lq"
      }
    },
    {
      "cell_type": "code",
      "source": [
        "df0.head()"
      ],
      "metadata": {
        "id": "TtQ5SEZowAc_"
      },
      "execution_count": null,
      "outputs": []
    },
    {
      "cell_type": "code",
      "source": [
        "print(df0.size)\n",
        "print(df0.shape)\n",
        "print(df0.columns)"
      ],
      "metadata": {
        "id": "dA8499k6wAaL"
      },
      "execution_count": null,
      "outputs": []
    },
    {
      "cell_type": "code",
      "source": [
        "df0.info()"
      ],
      "metadata": {
        "id": "PO-wGyvbCFp5"
      },
      "execution_count": null,
      "outputs": []
    },
    {
      "cell_type": "code",
      "source": [
        "df0.describe()"
      ],
      "metadata": {
        "id": "JX6t9Jl0Cr8_"
      },
      "execution_count": null,
      "outputs": []
    },
    {
      "cell_type": "code",
      "source": [
        "numerics = ['int16','int32','int64','float16','float32','float64']\n",
        "numeric_df = df0.select_dtypes(include = numerics)\n",
        "len(numeric_df.columns)"
      ],
      "metadata": {
        "id": "Qm5S4bMtCFmY"
      },
      "execution_count": null,
      "outputs": []
    },
    {
      "cell_type": "markdown",
      "source": [
        "###Percentage of missing Values"
      ],
      "metadata": {
        "id": "ToDARi44GwWv"
      }
    },
    {
      "cell_type": "code",
      "source": [
        "df0.isna().sum().sort_values(ascending=False)"
      ],
      "metadata": {
        "id": "i0jmhKKYImmG"
      },
      "execution_count": null,
      "outputs": []
    },
    {
      "cell_type": "code",
      "source": [
        "null_percent = df0.isna().sum() * 100 / len(df0)\n",
        "null_percent_df = pd.DataFrame({'percent_missing': null_percent})\n",
        "null_percent_df_not_zero = null_percent_df[null_percent_df['percent_missing'] != 0]\n",
        "null_percent_df_not_zero['percent_missing'].sort_values(ascending = False)"
      ],
      "metadata": {
        "id": "7sR5OQ25CFii"
      },
      "execution_count": null,
      "outputs": []
    },
    {
      "cell_type": "code",
      "source": [
        "null_percent_df_not_zero_list = null_percent_df_not_zero['percent_missing'].sort_values(ascending = False).tolist()\n",
        "len(null_percent_df_not_zero_list)\n",
        "#for i in null_percent_df_not_zero_list:\n",
        " # if i<20:\n",
        "  #  print(null_percent_df_not_zero_list)"
      ],
      "metadata": {
        "id": "Tqj5XCIAeRHG"
      },
      "execution_count": null,
      "outputs": []
    },
    {
      "cell_type": "code",
      "source": [
        "from numpy.lib.function_base import append\n",
        "i = int(0)\n",
        "colors = []\n",
        "while i<20:\n",
        "  if null_percent_df_not_zero_list[i]<20:\n",
        "    colors.append('Yellow')\n",
        "  else:\n",
        "    colors.append('Red')\n",
        "  i=i+1\n",
        "colors"
      ],
      "metadata": {
        "id": "7hn44LMe4vZt"
      },
      "execution_count": null,
      "outputs": []
    },
    {
      "cell_type": "code",
      "source": [
        "ax = null_percent_df_not_zero.plot(\n",
        "    kind = 'barh',\n",
        "    color = 'Green',\n",
        "    title = 'Percentage of Null in Each Column',\n",
        "    legend = True,\n",
        "    label = True,\n",
        "    figsize=(25,15)\n",
        ")\n",
        "plt.savefig('Percentage of Null in Each Column.png')"
      ],
      "metadata": {
        "id": "U5qNWDIgCFfH"
      },
      "execution_count": null,
      "outputs": []
    },
    {
      "cell_type": "markdown",
      "source": [
        "###Duplicate values"
      ],
      "metadata": {
        "id": "Rs5AvsSSL60g"
      }
    },
    {
      "cell_type": "code",
      "source": [
        "temp_df0 = df0[df0.duplicated()].copy()"
      ],
      "metadata": {
        "id": "ezWEh8ilL94A"
      },
      "execution_count": null,
      "outputs": []
    },
    {
      "cell_type": "code",
      "source": [
        "temp_df0.size"
      ],
      "metadata": {
        "id": "IfTY4djZMQ7l"
      },
      "execution_count": null,
      "outputs": []
    },
    {
      "cell_type": "markdown",
      "source": [
        "### Datatype Correction\n",
        "  1. End_Time \n",
        "  2. Start_Time"
      ],
      "metadata": {
        "id": "G72hLPrBgm4z"
      }
    },
    {
      "cell_type": "code",
      "source": [
        "df0[['Start_Time','End_Time']].dtypes"
      ],
      "metadata": {
        "id": "Qv16GDeagbe2"
      },
      "execution_count": null,
      "outputs": []
    },
    {
      "cell_type": "code",
      "source": [
        "df0['Start_Time'] = pd.to_datetime(df0['Start_Time'])"
      ],
      "metadata": {
        "id": "auHnA9FegrGd"
      },
      "execution_count": null,
      "outputs": []
    },
    {
      "cell_type": "code",
      "source": [
        "df0['End_Time'] = pd.to_datetime(df0['End_Time'])"
      ],
      "metadata": {
        "id": "-Yaenx_PgrBm"
      },
      "execution_count": null,
      "outputs": []
    },
    {
      "cell_type": "code",
      "source": [
        "df0[['Start_Time','End_Time']].dtypes"
      ],
      "metadata": {
        "id": "ZcB-5KYHhZna"
      },
      "execution_count": null,
      "outputs": []
    },
    {
      "cell_type": "markdown",
      "source": [
        "##Perform EDA, Vsiusalisation using Matplotlib and Seaborn"
      ],
      "metadata": {
        "id": "dvNKtYZowgIl"
      }
    },
    {
      "cell_type": "code",
      "source": [
        "df0.columns"
      ],
      "metadata": {
        "id": "Os1b4IqOwAXD"
      },
      "execution_count": null,
      "outputs": []
    },
    {
      "cell_type": "markdown",
      "source": [
        "###Gegraphical Distribution of Accidents"
      ],
      "metadata": {
        "id": "PlFKr4qRFERb"
      }
    },
    {
      "cell_type": "markdown",
      "source": [
        "####City"
      ],
      "metadata": {
        "id": "mpvOe15cUC0Y"
      }
    },
    {
      "cell_type": "code",
      "source": [
        "su1 = pd.DataFrame()\n",
        "su1['Unique Values'] = df0['City'].value_counts().index.tolist()\n",
        "print(su1)"
      ],
      "metadata": {
        "id": "JXQs4BE747rZ"
      },
      "execution_count": null,
      "outputs": []
    },
    {
      "cell_type": "code",
      "source": [
        "su1['Count'] = df0['City'].value_counts().tolist()\n",
        "print(su1)"
      ],
      "metadata": {
        "id": "xo-tH8zF47oy"
      },
      "execution_count": null,
      "outputs": []
    },
    {
      "cell_type": "code",
      "source": [
        "print(su1.shape)"
      ],
      "metadata": {
        "id": "Kgz0TcPJ8Odv"
      },
      "execution_count": null,
      "outputs": []
    },
    {
      "cell_type": "code",
      "source": [
        "su1[:10]"
      ],
      "metadata": {
        "id": "iCcI7eME8OaV"
      },
      "execution_count": null,
      "outputs": []
    },
    {
      "cell_type": "code",
      "source": [
        "x = su1['Unique Values'][:10].tolist()\n",
        "x"
      ],
      "metadata": {
        "id": "X_5Znw598rEz"
      },
      "execution_count": null,
      "outputs": []
    },
    {
      "cell_type": "code",
      "source": [
        "y = su1['Count'][:10].tolist()\n",
        "y"
      ],
      "metadata": {
        "id": "xGH5HWfC87EX"
      },
      "execution_count": null,
      "outputs": []
    },
    {
      "cell_type": "code",
      "source": [
        "def addlabels(x,y):\n",
        "    for i in range(len(x)):\n",
        "        plt.text(i, y[i],y[i], ha = 'center', fontsize = 20,\n",
        "                 Bbox = dict(facecolor = 'white', alpha = .5))"
      ],
      "metadata": {
        "id": "jK_BKc1p4dDL"
      },
      "execution_count": null,
      "outputs": []
    },
    {
      "cell_type": "code",
      "source": [
        "plt.figure(figsize=(40,20)) \n",
        "plt.bar(x, y, color = '#c36468')\n",
        "\n",
        "# calling the function to add value labels\n",
        "addlabels(x, y)\n",
        "  \n",
        "# giving title to the plot\n",
        "plt.title(\"Top 10 cities by their count of accidents\", fontsize = 40, color = '#820e25')\n",
        "  \n",
        "# giving X and Y labels\n",
        "plt.xlabel(\"Cities\", fontsize = 28, color = '#820e25')\n",
        "plt.ylabel(\"Counts of Accidents\", fontsize = 28, color = '#820e25')\n",
        "\n",
        "plt.tick_params(axis='x', labelsize=20)\n",
        "plt.tick_params(axis='y', labelsize=20)\n",
        "\n",
        "\n",
        "#saving plot\n",
        "plt.savefig('Top 10 Cities by Highest Counts of Accidents.jpeg')\n",
        "\n",
        "# visualizing the plot\n",
        "#plt.show()"
      ],
      "metadata": {
        "id": "k1uxYSIF8OWB"
      },
      "execution_count": null,
      "outputs": []
    },
    {
      "cell_type": "markdown",
      "source": [
        "####States"
      ],
      "metadata": {
        "id": "lLPpQC2JU3Q0"
      }
    },
    {
      "cell_type": "code",
      "source": [
        "su1 = pd.DataFrame()\n",
        "su1['Unique Values'] = df0['State'].value_counts().index.tolist()"
      ],
      "metadata": {
        "id": "gcCakJrhUw95"
      },
      "execution_count": null,
      "outputs": []
    },
    {
      "cell_type": "code",
      "source": [
        "su1['Count'] = df0['State'].value_counts().tolist()"
      ],
      "metadata": {
        "id": "CFl-e8WPUw95"
      },
      "execution_count": null,
      "outputs": []
    },
    {
      "cell_type": "code",
      "source": [
        "def addlabels(x,y):\n",
        "    for i in range(len(x)):\n",
        "        plt.text(i, y[i],y[i], ha = 'center', fontsize = 20,\n",
        "                 Bbox = dict(facecolor = 'white', alpha = .5))"
      ],
      "metadata": {
        "id": "C8xBhfUMUw97"
      },
      "execution_count": null,
      "outputs": []
    },
    {
      "cell_type": "code",
      "source": [
        "x = su1['Unique Values'][:10].tolist()\n",
        "y = su1['Count'][:10].tolist()\n",
        "\n",
        "plt.figure(figsize=(40,20))\n",
        "plt.bar(x, y, color = '#dc9b3b')\n",
        "\n",
        "# calling the function to add value labels\n",
        "addlabels(x, y)\n",
        "  \n",
        "# giving title to the plot\n",
        "plt.title(\"Top 10 State by their count of accidents\", fontsize = 40, color = '#820e25')\n",
        "  \n",
        "# giving X and Y labels\n",
        "plt.xlabel(\"State\", fontsize = 28, color = '#820e25')\n",
        "plt.ylabel(\"Counts of Accidents\", fontsize = 28, color = '#820e25')\n",
        "\n",
        "plt.tick_params(axis='x', labelsize=20)\n",
        "plt.tick_params(axis='y', labelsize=20)\n",
        "\n",
        "#saving plot\n",
        "plt.savefig('Top 10 State by Highest Counts of Accidents.jpeg')\n",
        "\n",
        "# visualizing the plot\n",
        "#plt.show()"
      ],
      "metadata": {
        "id": "t88Xf0KhUw97"
      },
      "execution_count": null,
      "outputs": []
    },
    {
      "cell_type": "markdown",
      "source": [
        "#### Map Plot of 0.001 percent of dataframe"
      ],
      "metadata": {
        "id": "WIicLWhJZOtC"
      }
    },
    {
      "cell_type": "code",
      "source": [
        "# 0.001 percent of data frame\n",
        "sampl_df = df0.sample(math.floor((len(df0)*0.00001)))\n",
        "\n",
        "map = folium.Map()\n",
        "\n",
        "locations = sampl_df[['Start_Lat', 'Start_Lng']]\n",
        "locationlist = locations.values.tolist()\n",
        "len(locationlist)\n",
        "locationlist[7]\n",
        "\n",
        "for point in range(0, len(locationlist)):\n",
        "    folium.Marker(locationlist[point]).add_to(map)\n",
        "map"
      ],
      "metadata": {
        "id": "Jd46AwXyrfJr"
      },
      "execution_count": null,
      "outputs": []
    },
    {
      "cell_type": "markdown",
      "source": [
        "###Time dependence of Accidents"
      ],
      "metadata": {
        "id": "8efEnNu1FHzi"
      }
    },
    {
      "cell_type": "markdown",
      "source": [
        "####Start_Time --- Time dependence of Accidents"
      ],
      "metadata": {
        "id": "b9EfAlDmfEft"
      }
    },
    {
      "cell_type": "markdown",
      "source": [
        "Extract \n",
        "  - year, month, Weekday, \n",
        "  - hour, minute and seconds"
      ],
      "metadata": {
        "id": "1sMT8BSYla34"
      }
    },
    {
      "cell_type": "code",
      "source": [
        "df0['Start_Year'] = pd.DatetimeIndex(df0['Start_Time']).year\n",
        "\n",
        "plt.figure(figsize=(30,20))\n",
        "sns.histplot(df0['Start_Year'], stat='percent',bins = 5, discrete = True, color = '#d7d34b', edgecolor='black')\n",
        "\n",
        "plt.title(\"Yearly Distribution of Counts of Accidents\", fontsize = 40, color = '#820e25')\n",
        "plt.xlabel(\"Years\", fontsize = 40, color = '#820e25')\n",
        "plt.ylabel(\"Counts of Accidents\", fontsize = 28, color = '#820e25')\n",
        "\n",
        "plt.tick_params(axis='x', labelsize=20)\n",
        "plt.tick_params(axis='y', labelsize=20)\n",
        "\n",
        "#saving plot\n",
        "plt.savefig('Yearly Distribution of Counts of Accidents.jpeg')"
      ],
      "metadata": {
        "id": "MLKEQo_dImxc"
      },
      "execution_count": null,
      "outputs": []
    },
    {
      "cell_type": "code",
      "source": [
        "df0['Start_Month'] = pd.DatetimeIndex(df0['Start_Time']).month\n",
        "\n",
        "month = np.sort(df0['Start_Month'].unique())\n",
        "\n",
        "#plt.rcParams[\"figure.figsize\"] = [30, 20]\n",
        "#plt.rcParams[\"figure.autolayout\"] = True\n",
        "\n",
        "plt.figure(figsize=(30, 20))\n",
        "n, bins, patches = plt.hist(df0['Start_Month'], color='#569be0', bins = 12, edgecolor='black')\n",
        "\n",
        "ticks = [(patch._x0 + patch._x1)/2 for patch in patches]\n",
        "ticklabels = [i for i in month]\n",
        "plt.xticks(ticks, ticklabels)\n",
        "\n",
        "# giving title to the plot\n",
        "plt.title(\"Monthly Distribution of Counts of Accidents\", fontsize = 40, color = '#820e25')\n",
        "  \n",
        "# giving X and Y labels\n",
        "plt.xlabel(\"Month\", fontsize = 40, color = '#820e25')\n",
        "plt.ylabel(\"Counts of Accidents\", fontsize = 28, color = '#820e25')\n",
        "\n",
        "plt.tick_params(axis='x', labelsize=20)\n",
        "plt.tick_params(axis='y', labelsize=20)\n",
        "\n",
        "#saving plot\n",
        "plt.savefig('Monthly Distribution of Counts of Accidents.jpeg')"
      ],
      "metadata": {
        "id": "Mnd79oa48Lfq"
      },
      "execution_count": null,
      "outputs": []
    },
    {
      "cell_type": "code",
      "source": [
        "df0['Start_Time_weekday'] = df0['Start_Time'].dt.dayofweek\n",
        "\n",
        "Start_Time_weekday = np.sort(df0['Start_Time_weekday'].unique())\n",
        "\n",
        "plt.figure(figsize=(30, 20))\n",
        "n, bins, patches = plt.hist(df0['Start_Time_weekday'], color='#90be76', bins = 7, edgecolor='white')\n",
        "\n",
        "ticks = [(patch._x0 + patch._x1)/2 for patch in patches]\n",
        "ticklabels = [i for i in Start_Time_weekday]\n",
        "plt.xticks(ticks, ticklabels)\n",
        "\n",
        "# giving title to the plot\n",
        "plt.title(\"Weekly Distribution of Counts of Accidents\", fontsize = 40, color = '#820e25')\n",
        "  \n",
        "# giving X and Y labels\n",
        "plt.xlabel(\"Weekday\", fontsize = 40, color = '#820e25')\n",
        "plt.ylabel(\"Counts of Accidents\", fontsize = 28, color = '#820e25')\n",
        "\n",
        "plt.tick_params(axis='x', labelsize=20)\n",
        "plt.tick_params(axis='y', labelsize=20)\n",
        "\n",
        "#saving plot\n",
        "plt.savefig('Weekly Distribution of Counts of Accidents.jpeg')"
      ],
      "metadata": {
        "id": "MQrwPa1eAfbN"
      },
      "execution_count": null,
      "outputs": []
    },
    {
      "cell_type": "code",
      "source": [
        "#@title\n",
        "df0['Start_Hour'] = df0['Start_Time'].dt.hour\n",
        "plt.figure(figsize=(30, 20))\n",
        "sns.histplot(df0['Start_Hour'],stat='percent', bins = 24, discrete = True, color='#e9c64d', edgecolor='black')\n",
        "\n",
        "Start_Hour = np.sort(df0['Start_Hour'].unique())\n",
        "\n",
        "# giving title to the plot\n",
        "plt.title(\"Hourly Distribution of Counts of Accidents (Overall)\", fontsize = 40, color = '#820e25')\n",
        "  \n",
        "# giving X and Y labels\n",
        "plt.xlabel(\"Hour\", fontsize = 40, color = '#820e25')\n",
        "plt.ylabel(\"% - Counts of Accidents\", fontsize = 28, color = '#820e25')\n",
        "\n",
        "\n",
        "list1 = list(range(0,24))\n",
        "plt.xticks(ticks = list1)\n",
        "plt.tick_params(axis='x', labelsize=20)\n",
        "plt.tick_params(axis='y', labelsize=20)\n",
        "\n",
        "#saving plot\n",
        "plt.savefig('Hourly Distribution of Counts of Accidents (Overall).jpeg')"
      ],
      "metadata": {
        "id": "lqKvC_rFk8Ey"
      },
      "execution_count": null,
      "outputs": []
    },
    {
      "cell_type": "markdown",
      "source": [
        "####Weekdays vs Weekends Trend in Accident"
      ],
      "metadata": {
        "id": "hOMVjLMqghKh"
      }
    },
    {
      "cell_type": "markdown",
      "source": [
        "#####Weekend"
      ],
      "metadata": {
        "id": "mW_wwvDWsB5b"
      }
    },
    {
      "cell_type": "code",
      "source": [
        "sunday_df = df0[df0['Start_Time_weekday'].isin([5,6])]\n",
        "\n",
        "plt.figure(figsize=(30, 20))\n",
        "\n",
        "sns.histplot(sunday_df['Start_Hour'], stat='percent', bins = 24, kde=False, discrete = True, color = '#42c4c7')\n",
        "\n",
        "# giving title to the plot\n",
        "plt.title(\"Hourly Distribution of Counts of Accidents (Weekends)\", fontsize = 40, color = '#820e25')\n",
        "  \n",
        "# giving X and Y labels\n",
        "plt.xlabel(\"Hour\", fontsize = 40, color = '#820e25')\n",
        "plt.ylabel(\"% - Counts of Accidents\", fontsize = 28, color = '#820e25')\n",
        "\n",
        "plt.xticks(ticks = list1)\n",
        "plt.tick_params(axis='x', labelsize=20)\n",
        "plt.tick_params(axis='y', labelsize=20)\n",
        "\n",
        "#saving plot\n",
        "plt.savefig(\"Hourly Distribution of Counts of Accidents (Weekends).jpeg\")"
      ],
      "metadata": {
        "id": "D86-8KCo6pTM"
      },
      "execution_count": null,
      "outputs": []
    },
    {
      "cell_type": "markdown",
      "source": [
        "#####Weekdays"
      ],
      "metadata": {
        "id": "XQ6vdJ51wK27"
      }
    },
    {
      "cell_type": "code",
      "source": [
        "weekdays = df0[df0['Start_Time_weekday'].isin([0,1,2,3,4])]\n",
        "\n",
        "plt.figure(figsize=(30, 20))\n",
        "\n",
        "sns.histplot(weekdays['Start_Hour'], stat='percent', bins = 24, kde=False, discrete = True, color = '#ffb78e')\n",
        "\n",
        "# giving title to the plot\n",
        "plt.title(\"Hourly Distribution of Counts of Accidents (Weekdays)\", fontsize = 40, color = '#820e25')\n",
        "  \n",
        "# giving X and Y labels\n",
        "plt.xlabel(\"Hour\", fontsize = 40, color = '#820e25')\n",
        "plt.ylabel(\"% - Counts of Accidents\", fontsize = 28, color = '#820e25')\n",
        "\n",
        "plt.xticks(ticks = list1)\n",
        "plt.tick_params(axis='x', labelsize=20)\n",
        "plt.tick_params(axis='y', labelsize=20)\n",
        "\n",
        "#saving plot\n",
        "plt.savefig(\"Hourly Distribution of Counts of Accidents (Weekdays).jpeg\")"
      ],
      "metadata": {
        "id": "dZHMKC6LsImz"
      },
      "execution_count": null,
      "outputs": []
    },
    {
      "cell_type": "markdown",
      "source": [
        "#####Friday had most accidents"
      ],
      "metadata": {
        "id": "pD7k5CBfwOJE"
      }
    },
    {
      "cell_type": "code",
      "source": [
        "Fri_df = df0[df0['Start_Time_weekday'] == 4]\n",
        "\n",
        "plt.figure(figsize=(30, 20))\n",
        "sns.histplot(Fri_df['Start_Hour'],stat='percent', bins = 24, discrete = True, color='#7984cb', edgecolor='black')\n",
        "\n",
        "Start_Hour = np.sort(Fri_df['Start_Hour'].unique())\n",
        "\n",
        "# giving title to the plot\n",
        "plt.title(\"Friday’s Analysis\", fontsize = 40, color = '#820e25')\n",
        "  \n",
        "# giving X and Y labels\n",
        "plt.xlabel(\"Hour\", fontsize = 40, color = '#820e25')\n",
        "plt.ylabel(\"% - Counts of Accidents\", fontsize = 28, color = '#820e25')\n",
        "\n",
        "plt.xticks(ticks = list1)\n",
        "plt.tick_params(axis='x', labelsize=20)\n",
        "plt.tick_params(axis='y', labelsize=20)\n",
        "\n",
        "#saving plot\n",
        "plt.savefig('Friday’s Analysis.jpeg')"
      ],
      "metadata": {
        "id": "BdUUGBmUsIgr"
      },
      "execution_count": null,
      "outputs": []
    },
    {
      "cell_type": "markdown",
      "source": [
        "###Physical conditions"
      ],
      "metadata": {
        "id": "E90hcly5FTqQ"
      }
    },
    {
      "cell_type": "markdown",
      "source": [
        "####Temperature --- Physcial Condition's impact on Accidents"
      ],
      "metadata": {
        "id": "lHYepnpInT2E"
      }
    },
    {
      "cell_type": "code",
      "source": [
        "#@title\n",
        "#Creation of an array using Range() Function\n",
        "list2 = list(range(0,125))\n",
        " \n",
        "print(list2)"
      ],
      "metadata": {
        "id": "gUGpGBa__mmP"
      },
      "execution_count": null,
      "outputs": []
    },
    {
      "cell_type": "code",
      "source": [
        "#df.loc[(df['Salary_in_1000']>=100) & (df['Age']< 60) & (df['FT_Team'].str.startswith('S')),['Name','FT_Team']]\n",
        "temp_range = df0.loc[(df0['Temperature(F)'] > 32) & (df0['Temperature(F)']<100)]"
      ],
      "metadata": {
        "id": "eqC3HsOyCfx6"
      },
      "execution_count": null,
      "outputs": []
    },
    {
      "cell_type": "code",
      "source": [
        "plt.figure(figsize=(20,10))\n",
        "sns.distplot(df0['Temperature(F)'], color='#64bde9')\n",
        "\n",
        "# giving title to the plot\n",
        "plt.title(\"Temperature Distribution during the accidents\", fontsize = 40, color = '#820e25')\n",
        "  \n",
        "# giving X and Y labels\n",
        "plt.xlabel(\"Temperature\", fontsize = 28, color = '#820e25')\n",
        "plt.ylabel(\"% - Counts of Accidents\", fontsize = 28, color = '#820e25')\n",
        "\n",
        "#saving plot\n",
        "plt.savefig('Temperature Distribution during the accidents.jpeg')"
      ],
      "metadata": {
        "id": "_n-k8EOouTUW"
      },
      "execution_count": null,
      "outputs": []
    },
    {
      "cell_type": "markdown",
      "source": [
        "#### Natural Lighting Conditions\n",
        "  'Sunrise_Sunset', 'Civil_Twilight', 'Nautical_Twilight', 'Astronomical_Twilight', 'Start_Time_weekday'"
      ],
      "metadata": {
        "id": "HImSPUZi4-wo"
      }
    },
    {
      "cell_type": "code",
      "source": [
        "plt.figure(figsize=(30,15))\n",
        "\n",
        "labels1 = ['Day','Night']\n",
        "plt.rcParams['font.size'] = 9.0\n",
        "plt.pie(df0['Sunrise_Sunset'].value_counts(), \n",
        "      labels = labels1, \n",
        "      autopct='%.2f', \n",
        "      colors = ['#e2b273','#aab8e2'],\n",
        "      wedgeprops={'linewidth': 5.0, 'edgecolor': 'white'},\n",
        "      textprops={'size': 15})\n",
        "\n",
        "# giving title to the plot\n",
        "plt.title(\"Natural Lighting Conditions during the accidents\", fontsize = 30, color = '#820e25')\n",
        "#saving plot\n",
        "plt.savefig(\"Hourly Distribution of Counts of Accidents (Weekdays).jpeg\")\n",
        "  \n",
        "#saving plot\n",
        "plt.savefig('Natural Lighting Conditions during the accidents.jpeg')"
      ],
      "metadata": {
        "id": "269PE9DuU9XS"
      },
      "execution_count": null,
      "outputs": []
    },
    {
      "cell_type": "code",
      "source": [],
      "metadata": {
        "id": "MZPl7Dqvr7zI"
      },
      "execution_count": null,
      "outputs": []
    }
  ]
}